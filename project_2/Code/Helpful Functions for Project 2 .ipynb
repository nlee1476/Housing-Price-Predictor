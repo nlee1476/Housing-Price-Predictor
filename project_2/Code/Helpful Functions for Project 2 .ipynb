{
 "cells": [
  {
   "cell_type": "code",
   "execution_count": 19,
   "metadata": {},
   "outputs": [],
   "source": [
    "# Import all the relevant libraries \n",
    "import pandas as pd \n",
    "import numpy as no \n",
    "import seaborn as sns \n",
    "import matplotlib.pyplot as plt\n",
    "from sklearn.linear_model import LinearRegression\n",
    "from sklearn.model_selection import train_test_split, KFold, cross_val_score\n",
    "from sklearn.linear_model import LinearRegression, LassoCV, RidgeCV\n",
    "from sklearn.preprocessing import PolynomialFeatures, PowerTransformer\n",
    "from sklearn.metrics import r2_score\n",
    "\n",
    "%matplotlib inline"
   ]
  },
  {
   "cell_type": "code",
   "execution_count": null,
   "metadata": {},
   "outputs": [],
   "source": []
  },
  {
   "cell_type": "code",
   "execution_count": 4,
   "metadata": {},
   "outputs": [],
   "source": [
    "def column_cleaner(data): \n",
    "    data.columns=map(str.lower, data.columns)\n",
    "    data.columns = data.columns.str.strip().str.replace(\" \",\"_\")\n",
    "    return data \n"
   ]
  },
  {
   "cell_type": "code",
   "execution_count": 5,
   "metadata": {},
   "outputs": [],
   "source": [
    "def fill_na(data): \n",
    "    data[['garage_qual', 'garage_cond']] = data[['garage_qual', 'garage_cond']].fillna(value = 0)\n",
    "    data['mas_vnr_area'] = data[[\"mas_vnr_area\"]].fillna(value = 0)\n",
    "    return data \n",
    "    \n",
    "    "
   ]
  },
  {
   "cell_type": "code",
   "execution_count": 6,
   "metadata": {},
   "outputs": [],
   "source": [
    "def dataframe_dictionary_input(data): \n",
    "    street_cleaned = { \"Grvl\" : 0,\"Pave\" : 1}\n",
    "    data[\"street\"] = data[[\"street\"]].replace(street_cleaned)\n",
    "\n",
    "\n",
    "    na_to_ex_rating = {\"Po\" : 1, \"Fa\" : 2,\"TA\" : 3, \"Gd\" : 4, \"Ex\" : 5,}\n",
    "    data['bsmt_qual'] = data[['bsmt_qual']].replace(na_to_ex_rating)\n",
    "    data[\"bsmt_cond\"] = data[['bsmt_cond']].replace(na_to_ex_rating)\n",
    "\n",
    "\n",
    "    heating_qc_cleaned = {\"Po\" : 0, \"Fa\" : 1,\"TA\" : 2, \"Gd\" : 3, \"Ex\" : 4,}\n",
    "    data['heating_qc'] = data[['heating_qc']].replace(heating_qc_cleaned)\n",
    "\n",
    "    poor_to_ex_no_na = {\"Po\" : 0, \"Fa\" : 1,\"TA\" : 2, \"Gd\" : 3, \"Ex\" : 4,}\n",
    "    data['kitchen_qual'] = data[['kitchen_qual']].replace(kitchen_qc_cleaned)\n",
    "\n",
    "    data['exter_qual'] = data[['exter_qual']].replace(poor_to_ex_no_na)\n",
    "    data['exter_cond'] = data[['exter_cond']].replace(poor_to_ex_no_na)\n",
    "    return data\n"
   ]
  },
  {
   "cell_type": "code",
   "execution_count": 7,
   "metadata": {},
   "outputs": [],
   "source": [
    "def feature_interactions(data): \n",
    "    data[\"garage_comb\"] = data[\"garage_area\"] * data[\"garage_cars\"]\n",
    "    data[\"deck_*_porch\"] = data[\"wood_deck_sf\"] * data[\"open_porch_sf\"]\n",
    "    data[\"exter_cond*exter_qual\"] = data[\"exter_cond\"] * data[\"exter_qual\"]\n",
    "    data[\"total_bsmt_sf*gr_liv_area\"] = data[\"total_bsmt_sf\"] * data[\"gr_liv_area\"]\n",
    "    data[\"bsmt_qual*bsmt_cond\"] = data[\"bsmt_qual\"] * data[\"bsmt_cond\"]\n",
    "    return data \n",
    "    \n",
    "    "
   ]
  },
  {
   "cell_type": "code",
   "execution_count": 21,
   "metadata": {},
   "outputs": [],
   "source": [
    "def fitter_and_instantiator(): \n",
    "    lr = LinearRegression()\n",
    "    X_train, X_test, y_train, y_test = train_test_split(X,y, random_state = 42)\n",
    "    lr.fit(X_train, y_train)\n",
    "    return X_train, X_test, y_train, Y_test, lr.fit(X_train,y_train)"
   ]
  },
  {
   "cell_type": "code",
   "execution_count": 18,
   "metadata": {},
   "outputs": [],
   "source": [
    "def model_evaluation(X_test): \n",
    "    pred = lr.predict(X_test)\n",
    "    residuals = y-test-pred\n",
    "    residuals.hist()"
   ]
  },
  {
   "cell_type": "code",
   "execution_count": null,
   "metadata": {},
   "outputs": [],
   "source": [
    "def dummy_cols_maker(data, list_of_columns):\n",
    "    data = pd.get_dummies(data, columns = ['neighborhood'], drop_first=True)\n",
    "    data = pd.get_dummies(data, columns = ['central_air'], drop_first=True)\n",
    "    data = pd.get_dummies(data, columns = ['electrical'], drop_first = True)\n",
    "    data = pd.get_dummies(data, columns = ['heating'], drop_first = True)\n",
    "    data = pd.get_dummies(data, columns = ['functional'], drop_first = True)\n",
    "    data = pd.get_dummies(data, columns = ['exterior_1st'], drop_first = True)\n",
    "    data = pd.get_dummies(data, columns = [\"garage_cond\"], drop_first = True )\n",
    "    data = pd.get_dummies(data, columns = [\"garage_qual\"], drop_first = True)\n",
    "    \n",
    "    return data"
   ]
  },
  {
   "cell_type": "code",
   "execution_count": 13,
   "metadata": {},
   "outputs": [],
   "source": [
    "def prediction_helper(): \n",
    "    val_preds = pd.DataFrame(lr.predict(X_test), columns = [\"val_preds\"])\n",
    "    val_preds['y_val'] = y_test.values\n",
    "    val_preds['val_errors'] = val_preds['y_val']-val_preds['val_preds']\n",
    "    print(val_preds.head())"
   ]
  },
  {
   "cell_type": "code",
   "execution_count": 23,
   "metadata": {},
   "outputs": [],
   "source": [
    "def prediction_maker(): \n",
    "    test_preds = pd.DataFrame(lr.predict(test[features]))\n",
    "    test['preds_1'] = test_preds\n",
    "\n",
    "    submission_x = test.loc[:, ['id', 'preds']]\n",
    "    submission_x.rename(columns = {'id': 'Id', 'preds_1': 'SalePrice'}, inplace=True)\n",
    "    \n",
    "    return test_preds, submission_x"
   ]
  },
  {
   "cell_type": "code",
   "execution_count": 22,
   "metadata": {},
   "outputs": [],
   "source": [
    "def power_transformer(): \n",
    "    pt = PowerTransformer()\n",
    "    pt.fit(X_train)\n",
    "    X_train_pt_transformed = pt.transform(X_train)\n",
    "    X_test_pt_transformed = pt.transform(X_test)\n",
    "    \n",
    "    \n",
    "    pt_y = PowerTransformer()\n",
    "    pt_y.fit(y_train.to_frame())\n",
    "    y_train_pt_transformed = pt_y.transform(y_train.to_frame())\n",
    "    y_test_pt_transformed = pt_y.transform(y_test.to_frame())\n",
    "    \n",
    "    return (pt, X_train_pt_transformed, X_test_pt_transformed,pt_y, y_train_pt_transformed, y_test_pt_transformed)\n",
    "    "
   ]
  },
  {
   "cell_type": "code",
   "execution_count": null,
   "metadata": {},
   "outputs": [],
   "source": []
  },
  {
   "cell_type": "code",
   "execution_count": null,
   "metadata": {},
   "outputs": [],
   "source": []
  },
  {
   "cell_type": "code",
   "execution_count": null,
   "metadata": {},
   "outputs": [],
   "source": []
  },
  {
   "cell_type": "code",
   "execution_count": null,
   "metadata": {},
   "outputs": [],
   "source": []
  },
  {
   "cell_type": "code",
   "execution_count": null,
   "metadata": {},
   "outputs": [],
   "source": []
  },
  {
   "cell_type": "code",
   "execution_count": null,
   "metadata": {},
   "outputs": [],
   "source": []
  },
  {
   "cell_type": "code",
   "execution_count": null,
   "metadata": {},
   "outputs": [],
   "source": []
  }
 ],
 "metadata": {
  "kernelspec": {
   "display_name": "Python 3",
   "language": "python",
   "name": "python3"
  },
  "language_info": {
   "codemirror_mode": {
    "name": "ipython",
    "version": 3
   },
   "file_extension": ".py",
   "mimetype": "text/x-python",
   "name": "python",
   "nbconvert_exporter": "python",
   "pygments_lexer": "ipython3",
   "version": "3.7.3"
  }
 },
 "nbformat": 4,
 "nbformat_minor": 2
}
